{
 "cells": [
  {
   "cell_type": "markdown",
   "metadata": {},
   "source": [
    "## Lab 1 R notebook\n",
    "\n",
    "This is a example R notebook that uses `nbgrader`. It demonstrates autograded questions, manual graded questions, as well as the use of hashing to hide answers. We use the `digest` package to do the hashing."
   ]
  },
  {
   "cell_type": "code",
   "execution_count": 1,
   "metadata": {
    "deletable": false,
    "editable": false,
    "nbgrader": {
     "cell_type": "code",
     "checksum": "1c612718518c8cff34221d5db16036a7",
     "grade": false,
     "grade_id": "cell-239ecb7ffa6bc86b",
     "locked": true,
     "schema_version": 2,
     "solution": false
    }
   },
   "outputs": [],
   "source": [
    "library(testthat)\n",
    "library(digest)\n",
    "library(stringr)"
   ]
  },
  {
   "cell_type": "markdown",
   "metadata": {
    "deletable": false,
    "editable": false,
    "nbgrader": {
     "cell_type": "markdown",
     "checksum": "c32b5297774c9bf6cd5ac311b275b018",
     "grade": false,
     "grade_id": "cell-6258902328e14469",
     "locked": true,
     "schema_version": 2,
     "solution": false
    }
   },
   "source": [
    "### Question 1 - autograded\n",
    "\n",
    "Create a variable named `ice_cream` and assign it the value of your favourite ice cream flavour."
   ]
  },
  {
   "cell_type": "code",
   "execution_count": 2,
   "metadata": {
    "deletable": false,
    "nbgrader": {
     "cell_type": "code",
     "checksum": "16a7089668888c44cb9c710967c5efd5",
     "grade": false,
     "grade_id": "cell-edf9d8efbff1b304",
     "locked": false,
     "schema_version": 2,
     "solution": true
    }
   },
   "outputs": [
    {
     "name": "stdout",
     "output_type": "stream",
     "text": [
      "[1] \"chocolate\"\n"
     ]
    }
   ],
   "source": [
    "# Assign ice_cream your favourite ice cream flavour.\n",
    "ice_cream <- \"chocolate\"\n",
    "print(ice_cream)"
   ]
  },
  {
   "cell_type": "code",
   "execution_count": 3,
   "metadata": {
    "deletable": false,
    "editable": false,
    "nbgrader": {
     "cell_type": "code",
     "checksum": "dd5619ba2da7b41f6da59f0dc62d5ffa",
     "grade": true,
     "grade_id": "cell-ca95324a64e94424",
     "locked": true,
     "points": 1,
     "schema_version": 2,
     "solution": false
    }
   },
   "outputs": [],
   "source": [
    "test_that(\"value for ice_cream should be a string (type character in R)\", {\n",
    "    expect_that(ice_cream, is_a(\"character\"))\n",
    "})\n",
    "test_that(\"value for ice_cream should > 3 characters long\", {\n",
    "    expect_that(nchar(ice_cream) > 3, is_true())\n",
    "})"
   ]
  },
  {
   "cell_type": "markdown",
   "metadata": {
    "deletable": false,
    "editable": false,
    "nbgrader": {
     "cell_type": "markdown",
     "checksum": "224f3a0d74c100ac9550f39b1fcb96e7",
     "grade": false,
     "grade_id": "cell-fb28a2465564dfbf",
     "locked": true,
     "schema_version": 2,
     "solution": false
    }
   },
   "source": [
    "### Question 2 - manually graded\n",
    "\n",
    "Assign x the value of 5. Be sure to use the assignment symbol and use white space appropriately (following the `tidyverse` style guide)."
   ]
  },
  {
   "cell_type": "code",
   "execution_count": 4,
   "metadata": {
    "deletable": false,
    "nbgrader": {
     "cell_type": "code",
     "checksum": "3303970777c03d477545d9faac1e7176",
     "grade": true,
     "grade_id": "cell-e373d8dc42a0ddeb",
     "locked": false,
     "points": 1,
     "schema_version": 2,
     "solution": true
    }
   },
   "outputs": [
    {
     "name": "stdout",
     "output_type": "stream",
     "text": [
      "[1] 10\n"
     ]
    }
   ],
   "source": [
    "# assign x the value of 5\n",
    "x <- 10\n",
    "print(x)"
   ]
  },
  {
   "cell_type": "markdown",
   "metadata": {
    "deletable": false,
    "editable": false,
    "nbgrader": {
     "cell_type": "markdown",
     "checksum": "41820818a240f34d68b4f69c5d5d7d61",
     "grade": false,
     "grade_id": "cell-82082d6a9c660c7e",
     "locked": true,
     "schema_version": 2,
     "solution": false
    }
   },
   "source": [
    "### Question 3 - autograded with hashed answer\n",
    "\n",
    "Calculate the mean of the `mpg` column of the built-in `mtcars` data set and save it to a variable called `mean_mpg`:"
   ]
  },
  {
   "cell_type": "code",
   "execution_count": 5,
   "metadata": {
    "deletable": false,
    "nbgrader": {
     "cell_type": "code",
     "checksum": "3442ea9c9a17295be38775b2f38e227f",
     "grade": false,
     "grade_id": "cell-9505ddd9bcdffc98",
     "locked": false,
     "schema_version": 2,
     "solution": true
    }
   },
   "outputs": [
    {
     "name": "stderr",
     "output_type": "stream",
     "text": [
      "Warning message in mean.default(cars$mpg):\n",
      "“argument is not numeric or logical: returning NA”"
     ]
    },
    {
     "name": "stdout",
     "output_type": "stream",
     "text": [
      "[1] NA\n"
     ]
    }
   ],
   "source": [
    "# calculate mean of mtcars mpg column and name it mean_mpg\n",
    "mean_mpg <- mean(cars$mpg)\n",
    "print(mean_mpg)"
   ]
  },
  {
   "cell_type": "code",
   "execution_count": 6,
   "metadata": {
    "deletable": false,
    "editable": false,
    "nbgrader": {
     "cell_type": "code",
     "checksum": "ca786d1d642b7e2ed89b061e6e96c9c0",
     "grade": true,
     "grade_id": "cell-701144e14d6bed8e",
     "locked": true,
     "points": 1,
     "schema_version": 2,
     "solution": false
    }
   },
   "outputs": [
    {
     "ename": "ERROR",
     "evalue": "Error: Test failed: 'mean_mpg has incorrect value'\n* digest(mean_mpg) not equal to \"e32f09b46662c0f915b7b080b9ff8e32\".\n1/1 mismatches\nx[1]: \"1b94ef47779439aedbf89a519ccb0ac3\"\ny[1]: \"e32f09b46662c0f915b7b080b9ff8e32\"\n",
     "output_type": "error",
     "traceback": [
      "Error: Test failed: 'mean_mpg has incorrect value'\n* digest(mean_mpg) not equal to \"e32f09b46662c0f915b7b080b9ff8e32\".\n1/1 mismatches\nx[1]: \"1b94ef47779439aedbf89a519ccb0ac3\"\ny[1]: \"e32f09b46662c0f915b7b080b9ff8e32\"\nTraceback:\n",
      "1. test_that(\"mean_mpg has incorrect value\", {\n .     expect_equal(digest(mean_mpg), \"e32f09b46662c0f915b7b080b9ff8e32\")\n . })",
      "2. test_code(desc, code, env = parent.frame())",
      "3. get_reporter()$end_test(context = get_reporter()$.context, test = test)",
      "4. stop(\"Test failed: '\", test, \"'\\n\", messages, call. = FALSE)"
     ]
    }
   ],
   "source": [
    "test_that('mean_mpg has incorrect value', {\n",
    "    expect_equal(digest(mean_mpg), 'e32f09b46662c0f915b7b080b9ff8e32')\n",
    "})"
   ]
  },
  {
   "cell_type": "markdown",
   "metadata": {
    "deletable": false,
    "editable": false,
    "nbgrader": {
     "cell_type": "markdown",
     "checksum": "cd97097de59c432352ad3a6f8f0b7687",
     "grade": false,
     "grade_id": "cell-355b9342e0deabc3",
     "locked": true,
     "schema_version": 2,
     "solution": false
    }
   },
   "source": [
    "### Question 4 - autograded with function\n",
    "\n",
    "Write a function called `sums` that uses a `for` loop to calculate the sum of a vector. The function should take in a vector and return a single numeric value."
   ]
  },
  {
   "cell_type": "code",
   "execution_count": 7,
   "metadata": {
    "deletable": false,
    "nbgrader": {
     "cell_type": "code",
     "checksum": "bb809498ea34b696acc2d1ee65fb617b",
     "grade": false,
     "grade_id": "cell-8bc7d84c0d819492",
     "locked": false,
     "schema_version": 2,
     "solution": true
    }
   },
   "outputs": [
    {
     "data": {
      "text/html": [
       "4"
      ],
      "text/latex": [
       "4"
      ],
      "text/markdown": [
       "4"
      ],
      "text/plain": [
       "[1] 4"
      ]
     },
     "metadata": {},
     "output_type": "display_data"
    }
   ],
   "source": [
    "# write a function called sums that calculates the sum of a vector\n",
    "# example vector\n",
    "numbers <- c(1, 2, 1)\n",
    "sums <- function(x) {\n",
    "    sum(x)\n",
    "} \n",
    "sums(numbers)"
   ]
  },
  {
   "cell_type": "code",
   "execution_count": 8,
   "metadata": {
    "deletable": false,
    "editable": false,
    "nbgrader": {
     "cell_type": "code",
     "checksum": "a67ec718dee94db430daf2cdc3d57c18",
     "grade": true,
     "grade_id": "cell-ab6133cc58e03573",
     "locked": true,
     "points": 1,
     "schema_version": 2,
     "solution": false
    }
   },
   "outputs": [
    {
     "ename": "ERROR",
     "evalue": "Error: Test failed: 'sums should use a for loop'\n* `x` isn't false.\n",
     "output_type": "error",
     "traceback": [
      "Error: Test failed: 'sums should use a for loop'\n* `x` isn't false.\nTraceback:\n",
      "1. test_that(\"sums should use a for loop\", {\n .     expect_that(all(is.na(str_match(as.character(body(sums)), \n .         \"for\"))), is_false())\n . })",
      "2. test_code(desc, code, env = parent.frame())",
      "3. get_reporter()$end_test(context = get_reporter()$.context, test = test)",
      "4. stop(\"Test failed: '\", test, \"'\\n\", messages, call. = FALSE)"
     ]
    }
   ],
   "source": [
    "test_that('sums(c(1, 2, 1)) should return 4', {\n",
    "    expect_equal(sums(c(1, 2, 1)), 4)\n",
    "})\n",
    "test_that('sums(1) should return 1', {\n",
    "    expect_equal(sums(1), 1)\n",
    "})\n",
    "test_that('sums should use a for loop', {\n",
    "    expect_that(all(is.na(str_match(as.character(body(sums)), \"for\"))), is_false())\n",
    "})"
   ]
  },
  {
   "cell_type": "markdown",
   "metadata": {
    "deletable": false,
    "editable": false,
    "nbgrader": {
     "cell_type": "markdown",
     "checksum": "bf9c6a56fd90b168b68c989dceccba66",
     "grade": false,
     "grade_id": "cell-a8191b3734cea61f",
     "locked": true,
     "schema_version": 2,
     "solution": false
    }
   },
   "source": [
    "### Question 5 - manually graded markdown question\n",
    "\n",
    "What is the \"best\" programming language for data science?"
   ]
  },
  {
   "cell_type": "markdown",
   "metadata": {
    "deletable": false,
    "nbgrader": {
     "cell_type": "markdown",
     "checksum": "48de6a51afcf754a4ecd4f85a45898b8",
     "grade": true,
     "grade_id": "cell-552860984e6eff56",
     "locked": false,
     "points": 2,
     "schema_version": 2,
     "solution": true
    }
   },
   "source": [
    "Python!"
   ]
  }
 ],
 "metadata": {
  "kernelspec": {
   "display_name": "R",
   "language": "R",
   "name": "ir"
  },
  "language_info": {
   "codemirror_mode": "r",
   "file_extension": ".r",
   "mimetype": "text/x-r-source",
   "name": "R",
   "pygments_lexer": "r",
   "version": "3.5.1"
  }
 },
 "nbformat": 4,
 "nbformat_minor": 1
}
