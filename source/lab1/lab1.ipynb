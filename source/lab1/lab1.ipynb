{
 "cells": [
  {
   "cell_type": "markdown",
   "metadata": {},
   "source": [
    "## Lab 1 R notebook\n",
    "\n",
    "This is a example R notebook that uses `nbgrader`. It demonstrates autograded questions, manual graded questions, as well as the use of hashing to hide answers. We use the `digest` package to do the hashing."
   ]
  },
  {
   "cell_type": "code",
   "execution_count": 1,
   "metadata": {
    "nbgrader": {
     "grade": false,
     "grade_id": "cell-239ecb7ffa6bc86b",
     "locked": true,
     "schema_version": 2,
     "solution": false
    }
   },
   "outputs": [],
   "source": [
    "library(testthat)\n",
    "library(digest)\n",
    "library(stringr)"
   ]
  },
  {
   "cell_type": "markdown",
   "metadata": {
    "nbgrader": {
     "grade": false,
     "grade_id": "cell-6258902328e14469",
     "locked": true,
     "schema_version": 2,
     "solution": false
    }
   },
   "source": [
    "### Question 1 - autograded\n",
    "\n",
    "Create a variable named `ice_cream` and assign it the value of your favourite ice cream flavour."
   ]
  },
  {
   "cell_type": "code",
   "execution_count": 2,
   "metadata": {
    "nbgrader": {
     "grade": false,
     "grade_id": "cell-edf9d8efbff1b304",
     "locked": false,
     "schema_version": 2,
     "solution": true
    }
   },
   "outputs": [
    {
     "name": "stdout",
     "output_type": "stream",
     "text": [
      "[1] \"salted caramel\"\n"
     ]
    }
   ],
   "source": [
    "# Assign ice_cream your favourite ice cream flavour.\n",
    "### BEGIN SOLUTION\n",
    "ice_cream <- \"salted caramel\"\n",
    "### END SOLUTION\n",
    "print(ice_cream)"
   ]
  },
  {
   "cell_type": "code",
   "execution_count": 3,
   "metadata": {
    "nbgrader": {
     "grade": true,
     "grade_id": "cell-ca95324a64e94424",
     "locked": true,
     "points": 1,
     "schema_version": 2,
     "solution": false
    }
   },
   "outputs": [],
   "source": [
    "test_that(\"value for ice_cream should be a string (type character in R)\", {\n",
    "    expect_that(ice_cream, is_a(\"character\"))\n",
    "})\n",
    "test_that(\"value for ice_cream should > 3 characters long\", {\n",
    "    expect_that(nchar(ice_cream) > 3, is_true())\n",
    "})"
   ]
  },
  {
   "cell_type": "markdown",
   "metadata": {
    "nbgrader": {
     "grade": false,
     "grade_id": "cell-fb28a2465564dfbf",
     "locked": true,
     "schema_version": 2,
     "solution": false
    }
   },
   "source": [
    "### Question 2 - manually graded\n",
    "\n",
    "Assign x the value of 5. Be sure to use the assignment symbol and use white space appropriately (following the `tidyverse` style guide)."
   ]
  },
  {
   "cell_type": "code",
   "execution_count": 4,
   "metadata": {
    "nbgrader": {
     "grade": true,
     "grade_id": "cell-e373d8dc42a0ddeb",
     "locked": false,
     "points": 1,
     "schema_version": 2,
     "solution": true
    }
   },
   "outputs": [
    {
     "name": "stdout",
     "output_type": "stream",
     "text": [
      "[1] 5\n"
     ]
    }
   ],
   "source": [
    "# assign x the value of 5\n",
    "### BEGIN SOLUTION\n",
    "x <- 5\n",
    "### END SOLUTION\n",
    "print(x)"
   ]
  },
  {
   "cell_type": "markdown",
   "metadata": {
    "nbgrader": {
     "grade": false,
     "grade_id": "cell-82082d6a9c660c7e",
     "locked": true,
     "schema_version": 2,
     "solution": false
    }
   },
   "source": [
    "### Question 3 - autograded with hashed answer\n",
    "\n",
    "Calculate the mean of the `mpg` column of the built-in `mtcars` data set and save it to a variable called `mean_mpg`:"
   ]
  },
  {
   "cell_type": "code",
   "execution_count": 5,
   "metadata": {
    "nbgrader": {
     "grade": false,
     "grade_id": "cell-9505ddd9bcdffc98",
     "locked": false,
     "schema_version": 2,
     "solution": true
    }
   },
   "outputs": [
    {
     "name": "stdout",
     "output_type": "stream",
     "text": [
      "[1] 20.09062\n"
     ]
    }
   ],
   "source": [
    "# calculate mean of mtcars mpg column and name it mean_mpg\n",
    "### BEGIN SOLUTION\n",
    "mean_mpg <- mean(mtcars$mpg) \n",
    "### END SOLUTION\n",
    "print(mean_mpg)"
   ]
  },
  {
   "cell_type": "code",
   "execution_count": 6,
   "metadata": {
    "nbgrader": {
     "grade": true,
     "grade_id": "cell-701144e14d6bed8e",
     "locked": true,
     "points": 1,
     "schema_version": 2,
     "solution": false
    }
   },
   "outputs": [],
   "source": [
    "test_that('mean_mpg has incorrect value', {\n",
    "    expect_equal(digest(mean_mpg), 'e32f09b46662c0f915b7b080b9ff8e32')\n",
    "})"
   ]
  },
  {
   "cell_type": "markdown",
   "metadata": {
    "nbgrader": {
     "grade": false,
     "grade_id": "cell-355b9342e0deabc3",
     "locked": true,
     "schema_version": 2,
     "solution": false
    }
   },
   "source": [
    "### Question 4 - autograded with function\n",
    "\n",
    "Write a function called `sums` that uses a `for` loop to calculate the sum of a vector. The function should take in a vector and return a single numeric value."
   ]
  },
  {
   "cell_type": "code",
   "execution_count": 7,
   "metadata": {
    "nbgrader": {
     "grade": false,
     "grade_id": "cell-8bc7d84c0d819492",
     "locked": false,
     "schema_version": 2,
     "solution": true
    }
   },
   "outputs": [
    {
     "data": {
      "text/html": [
       "4"
      ],
      "text/latex": [
       "4"
      ],
      "text/markdown": [
       "4"
      ],
      "text/plain": [
       "[1] 4"
      ]
     },
     "metadata": {},
     "output_type": "display_data"
    }
   ],
   "source": [
    "# write a function called sums that calculates the sum of a vector\n",
    "# example vector\n",
    "numbers <- c(1, 2, 1)\n",
    "### BEGIN SOLUTION\n",
    "sums <- function(x) {\n",
    "    total <- 0\n",
    "    for (value in x) {\n",
    "    total <- total + value\n",
    "    }\n",
    "    return(total)\n",
    "} \n",
    "### END SOLUTION\n",
    "sums(numbers)"
   ]
  },
  {
   "cell_type": "code",
   "execution_count": 8,
   "metadata": {
    "nbgrader": {
     "grade": true,
     "grade_id": "cell-ab6133cc58e03573",
     "locked": true,
     "points": 1,
     "schema_version": 2,
     "solution": false
    }
   },
   "outputs": [],
   "source": [
    "test_that('sums(c(1, 2, 1)) should return 4', {\n",
    "    expect_equal(sums(c(1, 2, 1)), 4)\n",
    "})\n",
    "test_that('sums(1) should return 1', {\n",
    "    expect_equal(sums(1), 1)\n",
    "})\n",
    "test_that('sums should use a for loop', {\n",
    "    expect_that(all(is.na(str_match(as.character(body(sums)), \"for\"))), is_false())\n",
    "})"
   ]
  },
  {
   "cell_type": "markdown",
   "metadata": {
    "nbgrader": {
     "grade": false,
     "grade_id": "cell-a8191b3734cea61f",
     "locked": true,
     "schema_version": 2,
     "solution": false
    }
   },
   "source": [
    "### Question 5 - manually graded markdown question\n",
    "\n",
    "What is the \"best\" programming language for data science?"
   ]
  },
  {
   "cell_type": "markdown",
   "metadata": {
    "nbgrader": {
     "grade": true,
     "grade_id": "cell-552860984e6eff56",
     "locked": false,
     "points": 2,
     "schema_version": 2,
     "solution": true
    }
   },
   "source": [
    "### BEGIN SOLUTION\n",
    "Whatever language your collaborators are using (especially so if it is open source!)\n",
    "### END SOLUTION"
   ]
  }
 ],
 "metadata": {
  "celltoolbar": "Create Assignment",
  "kernelspec": {
   "display_name": "R",
   "language": "R",
   "name": "ir"
  },
  "language_info": {
   "codemirror_mode": "r",
   "file_extension": ".r",
   "mimetype": "text/x-r-source",
   "name": "R",
   "pygments_lexer": "r",
   "version": "3.5.1"
  }
 },
 "nbformat": 4,
 "nbformat_minor": 1
}
