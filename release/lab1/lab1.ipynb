{
 "cells": [
  {
   "cell_type": "markdown",
   "metadata": {},
   "source": [
    "## Lab 1 R notebook\n",
    "\n",
    "This is a example R notebook that uses `nbgrader`. It demonstrates autograded questions, manual graded questions, as well as the use of hashing to hide answers. We use the `digest` package to do the hashing."
   ]
  },
  {
   "cell_type": "code",
   "execution_count": null,
   "metadata": {
    "deletable": false,
    "editable": false,
    "nbgrader": {
     "cell_type": "code",
     "checksum": "1c612718518c8cff34221d5db16036a7",
     "grade": false,
     "grade_id": "cell-239ecb7ffa6bc86b",
     "locked": true,
     "schema_version": 2,
     "solution": false
    }
   },
   "outputs": [],
   "source": [
    "library(testthat)\n",
    "library(digest)\n",
    "library(stringr)"
   ]
  },
  {
   "cell_type": "markdown",
   "metadata": {
    "deletable": false,
    "editable": false,
    "nbgrader": {
     "cell_type": "markdown",
     "checksum": "c32b5297774c9bf6cd5ac311b275b018",
     "grade": false,
     "grade_id": "cell-6258902328e14469",
     "locked": true,
     "schema_version": 2,
     "solution": false
    }
   },
   "source": [
    "### Question 1 - autograded\n",
    "\n",
    "Create a variable named `ice_cream` and assign it the value of your favourite ice cream flavour."
   ]
  },
  {
   "cell_type": "code",
   "execution_count": null,
   "metadata": {
    "deletable": false,
    "nbgrader": {
     "cell_type": "code",
     "checksum": "16a7089668888c44cb9c710967c5efd5",
     "grade": false,
     "grade_id": "cell-edf9d8efbff1b304",
     "locked": false,
     "schema_version": 2,
     "solution": true
    }
   },
   "outputs": [],
   "source": [
    "# Assign ice_cream your favourite ice cream flavour.\n",
    "# your code here\n",
    "fail() # No Answer - remove if you provide an answer\n",
    "print(ice_cream)"
   ]
  },
  {
   "cell_type": "code",
   "execution_count": null,
   "metadata": {
    "deletable": false,
    "editable": false,
    "nbgrader": {
     "cell_type": "code",
     "checksum": "dd5619ba2da7b41f6da59f0dc62d5ffa",
     "grade": true,
     "grade_id": "cell-ca95324a64e94424",
     "locked": true,
     "points": 1,
     "schema_version": 2,
     "solution": false
    }
   },
   "outputs": [],
   "source": [
    "test_that(\"value for ice_cream should be a string (type character in R)\", {\n",
    "    expect_that(ice_cream, is_a(\"character\"))\n",
    "})\n",
    "test_that(\"value for ice_cream should > 3 characters long\", {\n",
    "    expect_that(nchar(ice_cream) > 3, is_true())\n",
    "})"
   ]
  },
  {
   "cell_type": "markdown",
   "metadata": {
    "deletable": false,
    "editable": false,
    "nbgrader": {
     "cell_type": "markdown",
     "checksum": "224f3a0d74c100ac9550f39b1fcb96e7",
     "grade": false,
     "grade_id": "cell-fb28a2465564dfbf",
     "locked": true,
     "schema_version": 2,
     "solution": false
    }
   },
   "source": [
    "### Question 2 - manually graded\n",
    "\n",
    "Assign x the value of 5. Be sure to use the assignment symbol and use white space appropriately (following the `tidyverse` style guide)."
   ]
  },
  {
   "cell_type": "code",
   "execution_count": null,
   "metadata": {
    "deletable": false,
    "nbgrader": {
     "cell_type": "code",
     "checksum": "3303970777c03d477545d9faac1e7176",
     "grade": true,
     "grade_id": "cell-e373d8dc42a0ddeb",
     "locked": false,
     "points": 1,
     "schema_version": 2,
     "solution": true
    }
   },
   "outputs": [],
   "source": [
    "# assign x the value of 5\n",
    "# your code here\n",
    "fail() # No Answer - remove if you provide an answer\n",
    "print(x)"
   ]
  },
  {
   "cell_type": "markdown",
   "metadata": {
    "deletable": false,
    "editable": false,
    "nbgrader": {
     "cell_type": "markdown",
     "checksum": "41820818a240f34d68b4f69c5d5d7d61",
     "grade": false,
     "grade_id": "cell-82082d6a9c660c7e",
     "locked": true,
     "schema_version": 2,
     "solution": false
    }
   },
   "source": [
    "### Question 3 - autograded with hashed answer\n",
    "\n",
    "Calculate the mean of the `mpg` column of the built-in `mtcars` data set and save it to a variable called `mean_mpg`:"
   ]
  },
  {
   "cell_type": "code",
   "execution_count": null,
   "metadata": {
    "deletable": false,
    "nbgrader": {
     "cell_type": "code",
     "checksum": "3442ea9c9a17295be38775b2f38e227f",
     "grade": false,
     "grade_id": "cell-9505ddd9bcdffc98",
     "locked": false,
     "schema_version": 2,
     "solution": true
    }
   },
   "outputs": [],
   "source": [
    "# calculate mean of mtcars mpg column and name it mean_mpg\n",
    "# your code here\n",
    "fail() # No Answer - remove if you provide an answer\n",
    "print(mean_mpg)"
   ]
  },
  {
   "cell_type": "markdown",
   "metadata": {},
   "source": [
    "### Question 4 - autograded with function\n",
    "\n",
    "Write a function called `sums` that uses a `for` loop to calculate the sum of a vector. The function should take in a vector and return a single numeric value."
   ]
  },
  {
   "cell_type": "code",
   "execution_count": null,
   "metadata": {
    "deletable": false,
    "nbgrader": {
     "cell_type": "code",
     "checksum": "bb809498ea34b696acc2d1ee65fb617b",
     "grade": false,
     "grade_id": "cell-8bc7d84c0d819492",
     "locked": false,
     "schema_version": 2,
     "solution": true
    }
   },
   "outputs": [],
   "source": [
    "# write a function called sums that calculates the sum of a vector\n",
    "# example vector\n",
    "numbers <- c(1, 2, 1)\n",
    "# your code here\n",
    "fail() # No Answer - remove if you provide an answer\n",
    "sums(numbers)"
   ]
  },
  {
   "cell_type": "code",
   "execution_count": null,
   "metadata": {
    "deletable": false,
    "editable": false,
    "nbgrader": {
     "cell_type": "code",
     "checksum": "a67ec718dee94db430daf2cdc3d57c18",
     "grade": true,
     "grade_id": "cell-ab6133cc58e03573",
     "locked": true,
     "points": 1,
     "schema_version": 2,
     "solution": false
    }
   },
   "outputs": [],
   "source": [
    "test_that('sums(c(1, 2, 1)) should return 4', {\n",
    "    expect_equal(sums(c(1, 2, 1)), 4)\n",
    "})\n",
    "test_that('sums(1) should return 1', {\n",
    "    expect_equal(sums(1), 1)\n",
    "})\n",
    "test_that('sums should use a for loop', {\n",
    "    expect_that(all(is.na(str_match(as.character(body(sums)), \"for\"))), is_false())\n",
    "})"
   ]
  },
  {
   "cell_type": "markdown",
   "metadata": {
    "deletable": false,
    "editable": false,
    "nbgrader": {
     "cell_type": "markdown",
     "checksum": "bf9c6a56fd90b168b68c989dceccba66",
     "grade": false,
     "grade_id": "cell-a8191b3734cea61f",
     "locked": true,
     "schema_version": 2,
     "solution": false
    }
   },
   "source": [
    "### Question 5 - manually graded markdown question\n",
    "\n",
    "What is the \"best\" programming language for data science?"
   ]
  },
  {
   "cell_type": "markdown",
   "metadata": {
    "deletable": false,
    "nbgrader": {
     "cell_type": "markdown",
     "checksum": "48de6a51afcf754a4ecd4f85a45898b8",
     "grade": true,
     "grade_id": "cell-552860984e6eff56",
     "locked": false,
     "points": 2,
     "schema_version": 2,
     "solution": true
    }
   },
   "source": [
    "YOUR ANSWER HERE"
   ]
  }
 ],
 "metadata": {
  "kernelspec": {
   "display_name": "R",
   "language": "R",
   "name": "ir"
  },
  "language_info": {
   "codemirror_mode": "r",
   "file_extension": ".r",
   "mimetype": "text/x-r-source",
   "name": "R",
   "pygments_lexer": "r",
   "version": "3.5.1"
  }
 },
 "nbformat": 4,
 "nbformat_minor": 1
}
